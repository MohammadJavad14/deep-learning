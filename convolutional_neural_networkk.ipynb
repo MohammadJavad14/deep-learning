{
  "nbformat": 4,
  "nbformat_minor": 0,
  "metadata": {
    "colab": {
      "name": "convolutional_neural_networkk.ipynb",
      "provenance": [],
      "collapsed_sections": [],
      "include_colab_link": true
    },
    "kernelspec": {
      "display_name": "Python 3 (ipykernel)",
      "language": "python",
      "name": "python3"
    },
    "language_info": {
      "codemirror_mode": {
        "name": "ipython",
        "version": 3
      },
      "file_extension": ".py",
      "mimetype": "text/x-python",
      "name": "python",
      "nbconvert_exporter": "python",
      "pygments_lexer": "ipython3",
      "version": "3.9.7"
    }
  },
  "cells": [
    {
      "cell_type": "markdown",
      "metadata": {
        "id": "view-in-github",
        "colab_type": "text"
      },
      "source": [
        "<a href=\"https://colab.research.google.com/github/MohammadJavad14/deep-learning/blob/main/convolutional_neural_networkk.ipynb\" target=\"_parent\"><img src=\"https://colab.research.google.com/assets/colab-badge.svg\" alt=\"Open In Colab\"/></a>"
      ]
    },
    {
      "cell_type": "markdown",
      "metadata": {
        "id": "3DR-eO17geWu"
      },
      "source": [
        "# Convolutional Neural Network"
      ]
    },
    {
      "cell_type": "markdown",
      "metadata": {
        "id": "EMefrVPCg-60"
      },
      "source": [
        "### Importing the libraries"
      ]
    },
    {
      "cell_type": "code",
      "metadata": {
        "id": "pIyw9zOj9k3M"
      },
      "source": [
        "import tensorflow as tf\n",
        "from keras.preprocessing.image import ImageDataGenerator"
      ],
      "execution_count": null,
      "outputs": []
    },
    {
      "cell_type": "code",
      "metadata": {
        "colab": {
          "base_uri": "https://localhost:8080/",
          "height": 35
        },
        "id": "dVDj5zB5-y0c",
        "outputId": "90f52a81-3a00-4b17-c3cb-fd7a4ec0d48f"
      },
      "source": [
        "tf.__version__"
      ],
      "execution_count": null,
      "outputs": [
        {
          "data": {
            "text/plain": [
              "'2.6.0'"
            ]
          },
          "execution_count": 2,
          "metadata": {},
          "output_type": "execute_result"
        }
      ]
    },
    {
      "cell_type": "markdown",
      "metadata": {
        "id": "oxQxCBWyoGPE"
      },
      "source": [
        "## Part 1 - Data Preprocessing"
      ]
    },
    {
      "cell_type": "markdown",
      "metadata": {
        "id": "MvE-heJNo3GG"
      },
      "source": [
        "### Preprocessing the Training set"
      ]
    },
    {
      "cell_type": "code",
      "metadata": {
        "id": "3qykjq4s--RH",
        "outputId": "698fbfa7-bb8b-449a-d27b-bf27fb6677eb"
      },
      "source": [
        "train_datagen = ImageDataGenerator(\n",
        "    rescale=1/255,\n",
        "    shear_range=0.2,\n",
        "    horizontal_flip=True\n",
        ")\n",
        "training_set = train_datagen.flow_from_directory(\n",
        "     'dataset/training_set',\n",
        "     target_size=(64,64),\n",
        "     batch_size=32,\n",
        "     class_mode='binary'\n",
        ")"
      ],
      "execution_count": null,
      "outputs": [
        {
          "name": "stdout",
          "output_type": "stream",
          "text": [
            "Found 8000 images belonging to 2 classes.\n"
          ]
        }
      ]
    },
    {
      "cell_type": "markdown",
      "metadata": {
        "id": "mrCMmGw9pHys"
      },
      "source": [
        "### Preprocessing the Test set"
      ]
    },
    {
      "cell_type": "code",
      "metadata": {
        "id": "WQD9MdojH1av",
        "outputId": "1eb7d68b-54a7-4560-8afd-d84d13021f44"
      },
      "source": [
        " test_datagen = ImageDataGenerator(rescale=1/255)\n",
        " test_set = test_datagen.flow_from_directory(\n",
        "     'dataset/test_set',\n",
        "     target_size=(64,64),\n",
        "     batch_size=32,\n",
        "     class_mode='binary'\n",
        " )"
      ],
      "execution_count": null,
      "outputs": [
        {
          "name": "stdout",
          "output_type": "stream",
          "text": [
            "Found 2000 images belonging to 2 classes.\n"
          ]
        }
      ]
    },
    {
      "cell_type": "markdown",
      "metadata": {
        "id": "af8O4l90gk7B"
      },
      "source": [
        "## Part 2 - Building the CNN"
      ]
    },
    {
      "cell_type": "markdown",
      "metadata": {
        "id": "ces1gXY2lmoX"
      },
      "source": [
        "### Initialising the CNN"
      ]
    },
    {
      "cell_type": "code",
      "metadata": {
        "id": "ZEylOd_oTog-",
        "outputId": "89a653f0-ef15-4a59-ef07-9054738a81e3"
      },
      "source": [
        "cnn = tf.keras.models.Sequential()"
      ],
      "execution_count": null,
      "outputs": [
        {
          "name": "stderr",
          "output_type": "stream",
          "text": [
            "2021-10-08 15:59:21.557882: I tensorflow/core/platform/cpu_feature_guard.cc:142] This TensorFlow binary is optimized with oneAPI Deep Neural Network Library (oneDNN) to use the following CPU instructions in performance-critical operations:  SSE4.1 SSE4.2 AVX AVX2 FMA\n",
            "To enable them in other operations, rebuild TensorFlow with the appropriate compiler flags.\n"
          ]
        }
      ]
    },
    {
      "cell_type": "markdown",
      "metadata": {
        "id": "u5YJj_XMl5LF"
      },
      "source": [
        "### Step 1 - Convolution"
      ]
    },
    {
      "cell_type": "code",
      "metadata": {
        "id": "N1-ZniB5T7-P"
      },
      "source": [
        "cnn.add(tf.keras.layers.Conv2D(filters=32, kernel_size=3, activation='relu', input_shape=[64,64,3]))"
      ],
      "execution_count": null,
      "outputs": []
    },
    {
      "cell_type": "markdown",
      "metadata": {
        "id": "tf87FpvxmNOJ"
      },
      "source": [
        "### Step 2 - Pooling"
      ]
    },
    {
      "cell_type": "code",
      "metadata": {
        "id": "EcyxornNa3ft"
      },
      "source": [
        "cnn.add(tf.keras.layers.MaxPool2D(pool_size=2, strides=2))"
      ],
      "execution_count": null,
      "outputs": []
    },
    {
      "cell_type": "markdown",
      "metadata": {
        "id": "xaTOgD8rm4mU"
      },
      "source": [
        "### Adding a second convolutional layer"
      ]
    },
    {
      "cell_type": "code",
      "metadata": {
        "id": "u0q3GJpAcR5Q"
      },
      "source": [
        "cnn.add(tf.keras.layers.Conv2D(filters=32, kernel_size=3, activation='relu'))\n",
        "cnn.add(tf.keras.layers.MaxPool2D(pool_size=2, strides=2))"
      ],
      "execution_count": null,
      "outputs": []
    },
    {
      "cell_type": "markdown",
      "metadata": {
        "id": "tmiEuvTunKfk"
      },
      "source": [
        "### Step 3 - Flattening"
      ]
    },
    {
      "cell_type": "code",
      "metadata": {
        "id": "hW-0dlIrc_9U"
      },
      "source": [
        "cnn.add(tf.keras.layers.Flatten())"
      ],
      "execution_count": null,
      "outputs": []
    },
    {
      "cell_type": "markdown",
      "metadata": {
        "id": "dAoSECOm203v"
      },
      "source": [
        "### Step 4 - Full Connection"
      ]
    },
    {
      "cell_type": "code",
      "metadata": {
        "id": "vpEKtL3udQjy"
      },
      "source": [
        "cnn.add(tf.keras.layers.Dense(units=128,activation='relu'))"
      ],
      "execution_count": null,
      "outputs": []
    },
    {
      "cell_type": "markdown",
      "metadata": {
        "id": "yTldFvbX28Na"
      },
      "source": [
        "### Step 5 - Output Layer"
      ]
    },
    {
      "cell_type": "code",
      "metadata": {
        "id": "RnG9a2VbdvQB"
      },
      "source": [
        "cnn.add(tf.keras.layers.Dense(units=1,activation='sigmoid'))"
      ],
      "execution_count": null,
      "outputs": []
    },
    {
      "cell_type": "markdown",
      "metadata": {
        "id": "D6XkI90snSDl"
      },
      "source": [
        "## Part 3 - Training the CNN"
      ]
    },
    {
      "cell_type": "markdown",
      "metadata": {
        "id": "vfrFQACEnc6i"
      },
      "source": [
        "### Compiling the CNN"
      ]
    },
    {
      "cell_type": "code",
      "metadata": {
        "id": "1SZ-D4jvlHyu"
      },
      "source": [
        "cnn.compile(optimizer= 'adam', loss = 'binary_crossentropy', metrics= ['accuracy'])"
      ],
      "execution_count": null,
      "outputs": []
    },
    {
      "cell_type": "markdown",
      "metadata": {
        "id": "ehS-v3MIpX2h"
      },
      "source": [
        "### Training the CNN on the Training set and evaluating it on the Test set"
      ]
    },
    {
      "cell_type": "code",
      "metadata": {
        "id": "S9hRkZSTn4Ts",
        "outputId": "33756af9-b858-4ca0-d718-7f7ba6da7ea9"
      },
      "source": [
        "cnn.fit(x = training_set, validation_data = test_set, epochs = 25)"
      ],
      "execution_count": null,
      "outputs": [
        {
          "name": "stdout",
          "output_type": "stream",
          "text": [
            "Epoch 1/25\n",
            "250/250 [==============================] - 28s 114ms/step - loss: 0.0335 - accuracy: 0.9904 - val_loss: 0.9956 - val_accuracy: 0.7860\n",
            "Epoch 2/25\n",
            "250/250 [==============================] - 28s 112ms/step - loss: 0.0387 - accuracy: 0.9870 - val_loss: 0.9491 - val_accuracy: 0.7900\n",
            "Epoch 3/25\n",
            "250/250 [==============================] - 28s 112ms/step - loss: 0.0411 - accuracy: 0.9868 - val_loss: 0.9859 - val_accuracy: 0.7840\n",
            "Epoch 4/25\n",
            "250/250 [==============================] - 28s 112ms/step - loss: 0.0276 - accuracy: 0.9908 - val_loss: 1.1285 - val_accuracy: 0.7915\n",
            "Epoch 5/25\n",
            "250/250 [==============================] - 28s 112ms/step - loss: 0.0275 - accuracy: 0.9900 - val_loss: 1.1389 - val_accuracy: 0.7855\n",
            "Epoch 6/25\n",
            "250/250 [==============================] - 28s 112ms/step - loss: 0.0464 - accuracy: 0.9822 - val_loss: 1.1068 - val_accuracy: 0.7820\n",
            "Epoch 7/25\n",
            "250/250 [==============================] - 28s 113ms/step - loss: 0.0227 - accuracy: 0.9934 - val_loss: 1.1290 - val_accuracy: 0.7865\n",
            "Epoch 8/25\n",
            "250/250 [==============================] - 28s 113ms/step - loss: 0.0370 - accuracy: 0.9877 - val_loss: 1.0575 - val_accuracy: 0.7780\n",
            "Epoch 9/25\n",
            "250/250 [==============================] - 28s 113ms/step - loss: 0.0208 - accuracy: 0.9936 - val_loss: 1.1974 - val_accuracy: 0.7845\n",
            "Epoch 10/25\n",
            "250/250 [==============================] - 28s 113ms/step - loss: 0.0112 - accuracy: 0.9974 - val_loss: 1.2731 - val_accuracy: 0.7855\n",
            "Epoch 11/25\n",
            "250/250 [==============================] - 28s 113ms/step - loss: 0.0099 - accuracy: 0.9980 - val_loss: 1.4005 - val_accuracy: 0.7760\n",
            "Epoch 12/25\n",
            "250/250 [==============================] - 28s 113ms/step - loss: 0.0200 - accuracy: 0.9949 - val_loss: 1.3289 - val_accuracy: 0.7730\n",
            "Epoch 13/25\n",
            "250/250 [==============================] - 28s 113ms/step - loss: 0.0610 - accuracy: 0.9787 - val_loss: 1.1729 - val_accuracy: 0.7705\n",
            "Epoch 14/25\n",
            "250/250 [==============================] - 28s 111ms/step - loss: 0.0175 - accuracy: 0.9951 - val_loss: 1.3433 - val_accuracy: 0.7805\n",
            "Epoch 15/25\n",
            "250/250 [==============================] - 28s 112ms/step - loss: 0.0196 - accuracy: 0.9936 - val_loss: 1.3553 - val_accuracy: 0.7775\n",
            "Epoch 16/25\n",
            "250/250 [==============================] - 28s 113ms/step - loss: 0.0108 - accuracy: 0.9969 - val_loss: 1.3969 - val_accuracy: 0.7805\n",
            "Epoch 17/25\n",
            "250/250 [==============================] - 30s 119ms/step - loss: 0.0201 - accuracy: 0.9935 - val_loss: 1.3422 - val_accuracy: 0.7740\n",
            "Epoch 18/25\n",
            "250/250 [==============================] - 28s 112ms/step - loss: 0.0157 - accuracy: 0.9955 - val_loss: 1.6983 - val_accuracy: 0.7715\n",
            "Epoch 19/25\n",
            "250/250 [==============================] - 28s 113ms/step - loss: 0.0320 - accuracy: 0.9879 - val_loss: 1.4417 - val_accuracy: 0.7750\n",
            "Epoch 20/25\n",
            "250/250 [==============================] - 28s 112ms/step - loss: 0.0122 - accuracy: 0.9967 - val_loss: 1.5392 - val_accuracy: 0.7845\n",
            "Epoch 21/25\n",
            "250/250 [==============================] - 28s 111ms/step - loss: 0.0133 - accuracy: 0.9964 - val_loss: 1.4336 - val_accuracy: 0.7740\n",
            "Epoch 22/25\n",
            "250/250 [==============================] - 28s 112ms/step - loss: 0.0229 - accuracy: 0.9927 - val_loss: 1.4677 - val_accuracy: 0.7805\n",
            "Epoch 23/25\n",
            "250/250 [==============================] - 28s 111ms/step - loss: 0.0206 - accuracy: 0.9924 - val_loss: 1.5412 - val_accuracy: 0.7880\n",
            "Epoch 24/25\n",
            "250/250 [==============================] - 28s 111ms/step - loss: 0.0120 - accuracy: 0.9960 - val_loss: 1.6066 - val_accuracy: 0.7760\n",
            "Epoch 25/25\n",
            "250/250 [==============================] - 28s 111ms/step - loss: 0.0184 - accuracy: 0.9936 - val_loss: 1.5394 - val_accuracy: 0.7735\n"
          ]
        },
        {
          "data": {
            "text/plain": [
              "<keras.callbacks.History at 0x7f35a8933e80>"
            ]
          },
          "execution_count": 15,
          "metadata": {},
          "output_type": "execute_result"
        }
      ]
    },
    {
      "cell_type": "markdown",
      "metadata": {
        "id": "U3PZasO0006Z"
      },
      "source": [
        "## Part 4 - Making a single prediction"
      ]
    },
    {
      "cell_type": "code",
      "metadata": {
        "id": "RvDKZx4rpvoz"
      },
      "source": [
        "import numpy as np\n",
        "from keras.preprocessing import image\n",
        "test_image = image.load_img('dataset/single_prediction/cat_or_dog_8.jpg', target_size = (64,64)) \n",
        "test_image = image.img_to_array(test_image)\n",
        "test_image = np.expand_dims(test_image, axis=0)\n",
        "result = cnn.predict(test_image)\n",
        "training_set.class_indices\n",
        "if result[0][0] == 1:\n",
        "  prediction = 'dog'\n",
        "else:\n",
        "  prediction = 'cat'"
      ],
      "execution_count": null,
      "outputs": []
    },
    {
      "cell_type": "code",
      "metadata": {
        "id": "MB9GbcCr14CS",
        "outputId": "20d0e4df-f2f2-474c-d97b-aff31fa1fee6"
      },
      "source": [
        "print(prediction)"
      ],
      "execution_count": null,
      "outputs": [
        {
          "name": "stdout",
          "output_type": "stream",
          "text": [
            "cat\n"
          ]
        }
      ]
    },
    {
      "cell_type": "code",
      "metadata": {
        "id": "kWfd7JdnDMWr"
      },
      "source": [
        ""
      ],
      "execution_count": null,
      "outputs": []
    }
  ]
}